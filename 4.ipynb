{
 "cells": [
  {
   "cell_type": "markdown",
   "id": "732bf673",
   "metadata": {},
   "source": [
    "Consider a list (list = []). You can perform the following commands:\n",
    "\n",
    "insert i e: Insert integer e at position i.\n",
    "print: Print the list.\n",
    "remove e: Delete the first occurrence of integer e.\n",
    "append e: Insert integer e at the end of the list.\n",
    "sort: Sort the list.\n",
    "pop: Pop the last element from the list.\n",
    "reverse: Reverse the list.\n",
    "Initialize your list and read in the value of n followed by n lines of commands where each command will be of the 7 types listed above. Iterate through each command in order and perform the corresponding operation on your list.\n"
   ]
  },
  {
   "cell_type": "code",
   "execution_count": 1,
   "id": "89de18bc",
   "metadata": {},
   "outputs": [
    {
     "name": "stdout",
     "output_type": "stream",
     "text": [
      "12\n",
      "insert 0 5\n",
      "insert 1 10\n",
      "insert 0 6\n",
      "print\n",
      "\n",
      "remove 6\n",
      "append 9\n",
      "sort\n",
      "print\n",
      "pop\n",
      "reverse\n",
      "print\n",
      "[6, 5, 10]\n",
      "[5, 9, 10]\n",
      "[9, 5]\n"
     ]
    }
   ],
   "source": [
    "\n",
    "if __name__ == '__main__':\n",
    "    N = int(input())\n",
    "    lst = []\n",
    "    c = []\n",
    "    for i in range(N):\n",
    "      command = input()\n",
    "      c.append(command)\n",
    "    for j in c:\n",
    "      res = j.split(' ')\n",
    "      if('insert' in res):\n",
    "        i = int(res[1])\n",
    "        k = int(res[2])\n",
    "        # print(i,k)\n",
    "        lst.insert(i, k)\n",
    "        #print(lst)\n",
    "      elif(j == 'print'):\n",
    "        print(lst)\n",
    "\n",
    "      elif('remove' in res):\n",
    "        r = int(res[1])\n",
    "        if(r in lst):\n",
    "          lst.remove(r)\n",
    "      \n",
    "      elif('append' in res ):\n",
    "        a = int(res[1])\n",
    "        lst.append(a)\n",
    "\n",
    "      elif('sort' in res):\n",
    "        lst.sort()\n",
    "\n",
    "      elif('pop' in res):\n",
    "        lst.pop()\n",
    "\n",
    "      elif('reverse' in res):\n",
    "        lst.reverse()\n",
    "\n",
    "    "
   ]
  },
  {
   "cell_type": "code",
   "execution_count": null,
   "id": "50d57bca",
   "metadata": {},
   "outputs": [],
   "source": []
  }
 ],
 "metadata": {
  "kernelspec": {
   "display_name": "Python 3 (ipykernel)",
   "language": "python",
   "name": "python3"
  },
  "language_info": {
   "codemirror_mode": {
    "name": "ipython",
    "version": 3
   },
   "file_extension": ".py",
   "mimetype": "text/x-python",
   "name": "python",
   "nbconvert_exporter": "python",
   "pygments_lexer": "ipython3",
   "version": "3.9.12"
  }
 },
 "nbformat": 4,
 "nbformat_minor": 5
}
